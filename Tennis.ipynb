{
 "cells": [
  {
   "cell_type": "markdown",
   "metadata": {},
   "source": [
    "# Collaboration and Competition\n",
    "\n",
    "---\n",
    "\n",
    "In this notebook, you will learn how to use the Unity ML-Agents environment for the third project of the [Deep Reinforcement Learning Nanodegree](https://www.udacity.com/course/deep-reinforcement-learning-nanodegree--nd893) program.\n",
    "\n",
    "### 1. Start the Environment\n",
    "\n",
    "We begin by importing the necessary packages.  If the code cell below returns an error, please revisit the project instructions to double-check that you have installed [Unity ML-Agents](https://github.com/Unity-Technologies/ml-agents/blob/master/docs/Installation.md) and [NumPy](http://www.numpy.org/)."
   ]
  },
  {
   "cell_type": "code",
   "execution_count": 1,
   "metadata": {},
   "outputs": [],
   "source": [
    "from unityagents import UnityEnvironment\n",
    "import numpy as np\n",
    "import matplotlib.pyplot as plt\n",
    "import numpy as np\n",
    "import torch\n",
    "\n",
    "from config import DDPGConfig, DDPGPERConfig\n",
    "from ddpg import DDPG\n",
    "from environment import UnityGymAdapter\n",
    "from models import Actor"
   ]
  },
  {
   "cell_type": "markdown",
   "metadata": {},
   "source": [
    "Next, we will start the environment!  **_Before running the code cell below_**, change the `file_name` parameter to match the location of the Unity environment that you downloaded.\n",
    "\n",
    "- **Mac**: `\"path/to/Tennis.app\"`\n",
    "- **Windows** (x86): `\"path/to/Tennis_Windows_x86/Tennis.exe\"`\n",
    "- **Windows** (x86_64): `\"path/to/Tennis_Windows_x86_64/Tennis.exe\"`\n",
    "- **Linux** (x86): `\"path/to/Tennis_Linux/Tennis.x86\"`\n",
    "- **Linux** (x86_64): `\"path/to/Tennis_Linux/Tennis.x86_64\"`\n",
    "- **Linux** (x86, headless): `\"path/to/Tennis_Linux_NoVis/Tennis.x86\"`\n",
    "- **Linux** (x86_64, headless): `\"path/to/Tennis_Linux_NoVis/Tennis.x86_64\"`\n",
    "\n",
    "For instance, if you are using a Mac, then you downloaded `Tennis.app`.  If this file is in the same folder as the notebook, then the line below should appear as follows:\n",
    "```\n",
    "env = UnityEnvironment(file_name=\"Tennis.app\")\n",
    "```"
   ]
  },
  {
   "cell_type": "code",
   "execution_count": 2,
   "metadata": {},
   "outputs": [
    {
     "name": "stderr",
     "output_type": "stream",
     "text": [
      "INFO:unityagents:\n",
      "'Academy' started successfully!\n",
      "Unity Academy name: Academy\n",
      "        Number of Brains: 1\n",
      "        Number of External Brains : 1\n",
      "        Lesson number : 0\n",
      "        Reset Parameters :\n",
      "\t\t\n",
      "Unity brain name: TennisBrain\n",
      "        Number of Visual Observations (per agent): 0\n",
      "        Vector Observation space type: continuous\n",
      "        Vector Observation space size (per agent): 8\n",
      "        Number of stacked Vector Observation: 3\n",
      "        Vector Action space type: continuous\n",
      "        Vector Action space size (per agent): 2\n",
      "        Vector Action descriptions: , \n"
     ]
    }
   ],
   "source": [
    "env = UnityEnvironment(file_name=\"Tennis_Linux/Tennis.x86_64\")"
   ]
  },
  {
   "cell_type": "markdown",
   "metadata": {},
   "source": [
    "Environments contain **_brains_** which are responsible for deciding the actions of their associated agents. Here we check for the first brain available, and set it as the default brain we will be controlling from Python."
   ]
  },
  {
   "cell_type": "code",
   "execution_count": 3,
   "metadata": {},
   "outputs": [],
   "source": [
    "# get the default brain\n",
    "brain_name = env.brain_names[0]\n",
    "brain = env.brains[brain_name]"
   ]
  },
  {
   "cell_type": "markdown",
   "metadata": {},
   "source": [
    "### 2. Examine the State and Action Spaces\n",
    "\n",
    "In this environment, two agents control rackets to bounce a ball over a net. If an agent hits the ball over the net, it receives a reward of +0.1.  If an agent lets a ball hit the ground or hits the ball out of bounds, it receives a reward of -0.01.  Thus, the goal of each agent is to keep the ball in play.\n",
    "\n",
    "The observation space consists of 8 variables corresponding to the position and velocity of the ball and racket. Two continuous actions are available, corresponding to movement toward (or away from) the net, and jumping. \n",
    "\n",
    "Run the code cell below to print some information about the environment."
   ]
  },
  {
   "cell_type": "code",
   "execution_count": 4,
   "metadata": {},
   "outputs": [
    {
     "name": "stdout",
     "output_type": "stream",
     "text": [
      "Number of agents: 2\n",
      "Size of each action: 2\n",
      "There are 2 agents. Each observes a state with length: 24\n",
      "The state for the first agent looks like: [ 0.          0.          0.          0.          0.          0.\n",
      "  0.          0.          0.          0.          0.          0.\n",
      "  0.          0.          0.          0.         -6.65278625 -1.5\n",
      " -0.          0.          6.83172083  6.         -0.          0.        ]\n"
     ]
    }
   ],
   "source": [
    "# reset the environment\n",
    "env_info = env.reset(train_mode=True)[brain_name]\n",
    "\n",
    "# number of agents \n",
    "num_agents = len(env_info.agents)\n",
    "print('Number of agents:', num_agents)\n",
    "\n",
    "# size of each action\n",
    "action_size = brain.vector_action_space_size\n",
    "print('Size of each action:', action_size)\n",
    "\n",
    "# examine the state space \n",
    "states = env_info.vector_observations\n",
    "state_size = states.shape[1]\n",
    "print('There are {} agents. Each observes a state with length: {}'.format(states.shape[0], state_size))\n",
    "print('The state for the first agent looks like:', states[0])"
   ]
  },
  {
   "cell_type": "markdown",
   "metadata": {},
   "source": [
    "### 3. Take Random Actions in the Environment\n",
    "\n",
    "In the next code cell, you will learn how to use the Python API to control the agents and receive feedback from the environment.\n",
    "\n",
    "Once this cell is executed, you will watch the agents' performance, if they select actions at random with each time step.  A window should pop up that allows you to observe the agents.\n",
    "\n",
    "Of course, as part of the project, you'll have to change the code so that the agents are able to use their experiences to gradually choose better actions when interacting with the environment!"
   ]
  },
  {
   "cell_type": "code",
   "execution_count": 5,
   "metadata": {},
   "outputs": [
    {
     "name": "stdout",
     "output_type": "stream",
     "text": [
      "Score (max over agents) from episode 1: 0.0\n",
      "Score (max over agents) from episode 2: 0.0\n",
      "Score (max over agents) from episode 3: 0.0\n",
      "Score (max over agents) from episode 4: 0.0\n",
      "Score (max over agents) from episode 5: 0.09000000171363354\n"
     ]
    }
   ],
   "source": [
    "for i in range(1, 6):                                      # play game for 5 episodes\n",
    "    env_info = env.reset(train_mode=False)[brain_name]     # reset the environment    \n",
    "    states = env_info.vector_observations                  # get the current state (for each agent)\n",
    "    scores = np.zeros(num_agents)                          # initialize the score (for each agent)\n",
    "    while True:\n",
    "        actions = np.random.randn(num_agents, action_size) # select an action (for each agent)\n",
    "        actions = np.clip(actions, -1, 1)                  # all actions between -1 and 1\n",
    "        env_info = env.step(actions)[brain_name]           # send all actions to tne environment\n",
    "        next_states = env_info.vector_observations         # get next state (for each agent)\n",
    "        rewards = env_info.rewards                         # get reward (for each agent)\n",
    "        dones = env_info.local_done                        # see if episode finished\n",
    "        scores += env_info.rewards                         # update the score (for each agent)\n",
    "        states = next_states                               # roll over states to next time step\n",
    "        if np.any(dones):                                  # exit loop if episode finished\n",
    "            break\n",
    "    print('Score (max over agents) from episode {}: {}'.format(i, np.max(scores)))"
   ]
  },
  {
   "cell_type": "markdown",
   "metadata": {},
   "source": [
    "When finished, you can close the environment."
   ]
  },
  {
   "cell_type": "markdown",
   "metadata": {},
   "source": [
    "### 4. It's Your Turn!\n",
    "\n",
    "Now it's your turn to train your own agent to solve the environment!  When training the environment, set `train_mode=True`, so that the line for resetting the environment looks like the following:\n",
    "```python\n",
    "env_info = env.reset(train_mode=True)[brain_name]\n",
    "```"
   ]
  },
  {
   "cell_type": "code",
   "execution_count": 6,
   "metadata": {},
   "outputs": [],
   "source": [
    "# Instanciate environment - Uncomment if you don't already have an env running\n",
    "# env = UnityEnvironment(file_name=\"Reacher_Linux/Reacher.x86_64\")\n",
    "# Wraps environment to have gym-like API\n",
    "env = UnityGymAdapter(env)\n",
    "\n",
    "# Define training configurations\n",
    "configs = {\"Vanilla\": DDPGConfig(), \"Prioritized\": DDPGPERConfig()}\n",
    "# Instantiate scores dict, which will contain sores for each config\n",
    "scores = {}"
   ]
  },
  {
   "cell_type": "code",
   "execution_count": 7,
   "metadata": {},
   "outputs": [
    {
     "name": "stdout",
     "output_type": "stream",
     "text": [
      "\n",
      "Training: Vanilla\n",
      "Episode 99\tAverage Score: 0.00, Last Score: 0.10\n",
      "Episode 199\tAverage Score: 0.02, Last Score: 0.00\n",
      "Episode 299\tAverage Score: 0.02, Last Score: 0.00\n",
      "Episode 399\tAverage Score: 0.00, Last Score: 0.00\n",
      "Episode 499\tAverage Score: 0.00, Last Score: 0.00\n",
      "Episode 599\tAverage Score: 0.00, Last Score: 0.00\n",
      "Episode 699\tAverage Score: 0.00, Last Score: 0.00\n",
      "Episode 799\tAverage Score: 0.00, Last Score: 0.00\n",
      "Episode 899\tAverage Score: 0.03, Last Score: 0.09\n",
      "Episode 999\tAverage Score: 0.08, Last Score: 0.10\n",
      "Episode 1099\tAverage Score: 0.09, Last Score: 0.10\n",
      "Episode 1199\tAverage Score: 0.10, Last Score: 0.09\n",
      "Episode 1299\tAverage Score: 0.17, Last Score: 0.10\n",
      "Episode 1399\tAverage Score: 0.24, Last Score: 1.00\n",
      "Episode 1499\tAverage Score: 0.43, Last Score: 0.10\n",
      "Episode 1599\tAverage Score: 0.71, Last Score: 2.40\n",
      "Episode 1699\tAverage Score: 0.65, Last Score: 0.10\n",
      "Episode 1799\tAverage Score: 0.48, Last Score: 0.30\n",
      "Episode 1899\tAverage Score: 0.51, Last Score: 0.70\n",
      "Episode 1999\tAverage Score: 0.86, Last Score: 1.30\n",
      "\n",
      "Training: Prioritized\n",
      "Episode 99\tAverage Score: 0.00, Last Score: 0.00\n",
      "Episode 199\tAverage Score: 0.00, Last Score: 0.10\n",
      "Episode 299\tAverage Score: 0.01, Last Score: 0.00\n",
      "Episode 399\tAverage Score: 0.01, Last Score: 0.00\n",
      "Episode 499\tAverage Score: 0.01, Last Score: 0.00\n",
      "Episode 599\tAverage Score: 0.03, Last Score: 0.00\n",
      "Episode 699\tAverage Score: 0.05, Last Score: 0.10\n",
      "Episode 799\tAverage Score: 0.09, Last Score: 0.09\n",
      "Episode 899\tAverage Score: 0.10, Last Score: 0.20\n",
      "Episode 999\tAverage Score: 0.17, Last Score: 0.30\n",
      "Episode 1099\tAverage Score: 0.15, Last Score: 0.10\n",
      "Episode 1199\tAverage Score: 0.32, Last Score: 0.30\n",
      "Episode 1299\tAverage Score: 0.24, Last Score: 0.10\n",
      "Episode 1399\tAverage Score: 0.20, Last Score: 0.09\n",
      "Episode 1499\tAverage Score: 0.19, Last Score: 0.09\n",
      "Episode 1599\tAverage Score: 0.23, Last Score: 0.30\n",
      "Episode 1699\tAverage Score: 0.18, Last Score: 0.00\n",
      "Episode 1799\tAverage Score: 0.13, Last Score: 0.20\n",
      "Episode 1899\tAverage Score: 0.13, Last Score: 0.20\n",
      "Episode 1999\tAverage Score: 0.10, Last Score: 0.10\n"
     ]
    }
   ],
   "source": [
    "# Train each config for 2000 episodes\n",
    "for name, config in configs.items():\n",
    "    print(f\"\\nTraining: {name}\")\n",
    "    agent = DDPG(env.state_size, env.action_size, config)\n",
    "    scores[name] = agent.train(env, 2000)\n",
    "    agent.save_model(name.lower().replace(\" \", \"_\") + '.pt')"
   ]
  },
  {
   "cell_type": "code",
   "execution_count": 14,
   "metadata": {},
   "outputs": [
    {
     "data": {
      "image/png": "[encoded data removed]",
      "text/plain": [
       "<Figure size 432x288 with 1 Axes>"
      ]
     },
     "metadata": {
      "needs_background": "light"
     },
     "output_type": "display_data"
    }
   ],
   "source": [
    "# plot the scores\n",
    "fig = plt.figure()\n",
    "ax = fig.add_subplot(111)\n",
    "for name, score in scores.items():\n",
    "    plt.plot(np.arange(len(score)), score, label=name)\n",
    "plt.axhline(y=0.5, linestyle='--', color='black', linewidth=1)\n",
    "plt.legend()\n",
    "plt.ylabel(\"Score\")\n",
    "plt.xlabel(\"Episode #\")\n",
    "plt.show()"
   ]
  },
  {
   "cell_type": "code",
   "execution_count": 15,
   "metadata": {},
   "outputs": [
    {
     "name": "stdout",
     "output_type": "stream",
     "text": [
      "Vanilla solved the environment in 1555 episode\n",
      "Prioritized did not solve the environment\n"
     ]
    }
   ],
   "source": [
    "for name in configs:\n",
    "    t = np.argmax(np.where(np.array(scores[name])>0.5, 1, 0))\n",
    "    if t>0:\n",
    "        print(f\"{name} solved the environment in {t} episode\")\n",
    "    else:\n",
    "        print(f\"{name} did not solve the environment\")"
   ]
  },
  {
   "cell_type": "markdown",
   "metadata": {},
   "source": [
    "### 5. Render Agent\n",
    "\n",
    "Now it is time to render the agent !"
   ]
  },
  {
   "cell_type": "code",
   "execution_count": 10,
   "metadata": {},
   "outputs": [
    {
     "data": {
      "text/plain": [
       "Actor(\n",
       "  (fc1): Linear(in_features=24, out_features=128, bias=True)\n",
       "  (fc2): Linear(in_features=128, out_features=128, bias=True)\n",
       "  (fc3): Linear(in_features=128, out_features=64, bias=True)\n",
       "  (fc4): Linear(in_features=64, out_features=2, bias=True)\n",
       "  (bn1): BatchNorm1d(128, eps=1e-05, momentum=0.1, affine=True, track_running_stats=True)\n",
       ")"
      ]
     },
     "execution_count": 10,
     "metadata": {},
     "output_type": "execute_result"
    }
   ],
   "source": [
    "# Chose one of Vanilla, Prioritized\n",
    "config = \"Vanilla\"\n",
    "\n",
    "file_name = config.lower().replace(\" \", \"_\") + \".pt\"\n",
    "\n",
    "# Load model\n",
    "model = Actor(env.state_size, env.action_size, 0) \n",
    "model.load_state_dict(torch.load(file_name, map_location=\"cpu\"))\n",
    "model.eval()"
   ]
  },
  {
   "cell_type": "code",
   "execution_count": 11,
   "metadata": {},
   "outputs": [],
   "source": [
    "def get_actions(model, states):\n",
    "        states = torch.from_numpy(states).float().unsqueeze(0)\n",
    "\n",
    "        actions = []\n",
    "        with torch.no_grad():\n",
    "            for state in states:\n",
    "                action = model(state)\n",
    "                actions.append(action.detach().numpy())\n",
    "\n",
    "        return np.array(actions).squeeze()"
   ]
  },
  {
   "cell_type": "code",
   "execution_count": 12,
   "metadata": {},
   "outputs": [
    {
     "name": "stdout",
     "output_type": "stream",
     "text": [
      "Score: 2.600000038743019\n"
     ]
    }
   ],
   "source": [
    "states = env.reset(train_mode=False)               # reset the environment\n",
    "score = 0                                          # initialize the score\n",
    "while True:\n",
    "    action = get_actions(model, states)\n",
    "    next_states, rewards, dones = env.step(action)   \n",
    "    score += np.mean(rewards)    \n",
    "    states = next_states                             \n",
    "    if any(dones):                                       \n",
    "        break\n",
    "    \n",
    "print(\"Score: {}\".format(score))"
   ]
  },
  {
   "cell_type": "code",
   "execution_count": 13,
   "metadata": {},
   "outputs": [],
   "source": [
    "env.close()"
   ]
  },
  {
   "cell_type": "code",
   "execution_count": null,
   "metadata": {},
   "outputs": [],
   "source": []
  }
 ],
 "metadata": {
  "kernelspec": {
   "display_name": "Python 3",
   "language": "python",
   "name": "python3"
  },
  "language_info": {
   "codemirror_mode": {
    "name": "ipython",
    "version": 3
   },
   "file_extension": ".py",
   "mimetype": "text/x-python",
   "name": "python",
   "nbconvert_exporter": "python",
   "pygments_lexer": "ipython3",
   "version": "3.6.12"
  }
 },
 "nbformat": 4,
 "nbformat_minor": 4
}
